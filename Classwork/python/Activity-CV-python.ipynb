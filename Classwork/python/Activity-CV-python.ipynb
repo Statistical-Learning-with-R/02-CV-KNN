{
    "cells": [
        {
            "cell_type": "markdown",
            "metadata": {},
            "source": [
                "\n",
                "\n"
            ]
        },
        {
            "cell_type": "code",
            "execution_count": null,
            "metadata": {},
            "outputs": [],
            "source": [
                "library(reticulate)\n",
                "## You may need the code below if you are working on your home Windows computer:\n",
                "py_run_string(\"import os as os\")\n",
                "py_run_string(\"os.environ['QT_QPA_PLATFORM_PLUGIN_PATH'] = 'C:/Users/kbodwin/Anaconda3/Library/plugins/platforms'\")\n"
            ]
        },
        {
            "cell_type": "markdown",
            "metadata": {},
            "source": "\n"
        },
        {
            "cell_type": "code",
            "execution_count": null,
            "metadata": {},
            "outputs": [],
            "source": [
                "import pandas as pd\n",
                "from matplotlib import pyplot as plt\n",
                "from sklearn.pipeline import Pipeline\n",
                "from sklearn.linear_model import LinearRegression\n"
            ]
        },
        {
            "cell_type": "markdown",
            "metadata": {},
            "source": [
                "## Code from slides\n",
                "\n"
            ]
        },
        {
            "cell_type": "code",
            "execution_count": null,
            "metadata": {},
            "outputs": [],
            "source": [
                "ins = pd.read_csv(\"https://www.dropbox.com/s/bocjjyo1ehr5auz/insurance_costs_1.csv?dl=1\")\n",
                "ins.head()\n"
            ]
        },
        {
            "cell_type": "markdown",
            "metadata": {},
            "source": "\n"
        },
        {
            "cell_type": "code",
            "execution_count": null,
            "metadata": {},
            "outputs": [],
            "source": [
                "from sklearn.preprocessing import PolynomialFeatures\n",
                "from sklearn.model_selection import cross_val_score\n",
                "from sklearn.model_selection import KFold\n",
                "\n",
                "lm = LinearRegression()\n",
                "\n",
                "poly = PolynomialFeatures(degree=20)\n",
                "x_dat = ins[\"bmi\"].values.reshape(-1,1)\n",
                "x_dat_20 = poly.fit_transform(x_dat)\n",
                "\n",
                "poly_mod_1 = lm.fit(x_dat, y = ins[[\"charges\"]])\n",
                "poly_mod_20 = lm.fit(x_dat_20, y = ins[[\"charges\"]])\n"
            ]
        },
        {
            "cell_type": "markdown",
            "metadata": {},
            "source": "\n"
        },
        {
            "cell_type": "code",
            "execution_count": null,
            "metadata": {},
            "outputs": [],
            "source": [
                "cross_validation = KFold(n_splits=10)\n",
                "\n",
                "scores_1 = cross_val_score(poly_mod_1, x_dat, ins[[\"charges\"]], scoring=\"neg_mean_squared_error\", cv=cross_validation)\n",
                "\n",
                "scores_20 = cross_val_score(poly_mod_20, x_dat_20, ins[[\"charges\"]], scoring=\"neg_mean_squared_error\", cv=cross_validation)\n",
                "\n",
                "scores_1.mean()\n",
                "scores_20.mean()\n"
            ]
        },
        {
            "cell_type": "markdown",
            "metadata": {},
            "source": [
                "## Your turn\n",
                "\n",
                "Suppose you want to fit a regression that predicts `charges` from `age` and `bmi`.\n",
                "\n",
                "Consider four models:\n",
                "\n",
                "* `age` and `bmi` both have polynomial 1\n",
                "* `age` has polynomial 1, `bmi` has polynomial 2\n",
                "* `age` has polynomial 2, `bmi` has polynomial 1\n",
                "* `age` and `bmi` both have polynomial 2\n",
                "\n",
                "(No interactions term for any model.)\n",
                "\n",
                "Which model is best according to a **Cross-Validation study** with 10 splits?\n"
            ]
        }
    ],
    "metadata": {
        "anaconda-cloud": "",
        "kernelspec": {
            "display_name": "R",
            "langauge": "R",
            "name": "ir"
        },
        "language_info": {
            "codemirror_mode": "r",
            "file_extension": ".r",
            "mimetype": "text/x-r-source",
            "name": "R",
            "pygments_lexer": "r",
            "version": "3.4.1"
        }
    },
    "nbformat": 4,
    "nbformat_minor": 1
}
