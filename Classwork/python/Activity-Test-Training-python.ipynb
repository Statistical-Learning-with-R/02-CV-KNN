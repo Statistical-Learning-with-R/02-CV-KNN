{
    "cells": [
        {
            "cell_type": "markdown",
            "metadata": {},
            "source": [
                "\n",
                "\n"
            ]
        },
        {
            "cell_type": "code",
            "execution_count": null,
            "metadata": {},
            "outputs": [],
            "source": [
                "library(reticulate)\n",
                "## You may need the code below if you are working on your home Windows computer:\n",
                "py_run_string(\"import os as os\")\n",
                "py_run_string(\"os.environ['QT_QPA_PLATFORM_PLUGIN_PATH'] = 'C:/Users/kbodwin/Anaconda3/Library/plugins/platforms'\")\n"
            ]
        },
        {
            "cell_type": "markdown",
            "metadata": {},
            "source": "\n"
        },
        {
            "cell_type": "code",
            "execution_count": null,
            "metadata": {},
            "outputs": [],
            "source": [
                "import pandas as pd\n",
                "import numpy as np\n",
                "from matplotlib import pyplot as plt\n",
                "from sklearn.pipeline import Pipeline\n",
                "from sklearn.linear_model import LinearRegression\n"
            ]
        },
        {
            "cell_type": "markdown",
            "metadata": {},
            "source": [
                "## Code from slides\n",
                "\n"
            ]
        },
        {
            "cell_type": "code",
            "execution_count": null,
            "metadata": {},
            "outputs": [],
            "source": [
                "ins = pd.read_csv(\"https://www.dropbox.com/s/bocjjyo1ehr5auz/insurance_costs_1.csv?dl=1\")\n",
                "ins.head()\n"
            ]
        },
        {
            "cell_type": "markdown",
            "metadata": {},
            "source": [
                "\n",
                "\n"
            ]
        },
        {
            "cell_type": "code",
            "execution_count": null,
            "metadata": {},
            "outputs": [],
            "source": [
                "poly_mod_1 = np.polyfit(x = ins[\"bmi\"], y = ins[[\"charges\"]], deg = 1)\n",
                "poly_mod_20 = np.polyfit(x = ins[\"bmi\"], y = ins[[\"charges\"]], deg = 20)\n"
            ]
        },
        {
            "cell_type": "markdown",
            "metadata": {},
            "source": [
                "\n",
                "\n"
            ]
        },
        {
            "cell_type": "code",
            "execution_count": null,
            "metadata": {},
            "outputs": [],
            "source": [
                "ins['preds_1'] = np.polyval(poly_mod_1, x = ins[\"bmi\"])\n",
                "ins['preds_20'] = np.polyval(poly_mod_20, x = ins[\"bmi\"])\n"
            ]
        },
        {
            "cell_type": "markdown",
            "metadata": {},
            "source": [
                "\n",
                "\n"
            ]
        },
        {
            "cell_type": "code",
            "execution_count": null,
            "metadata": {},
            "outputs": [],
            "source": [
                "print(poly_mod_1)\n",
                "print(poly_mod_20)\n"
            ]
        },
        {
            "cell_type": "markdown",
            "metadata": {},
            "source": [
                "\n",
                "\n"
            ]
        },
        {
            "cell_type": "code",
            "execution_count": null,
            "metadata": {},
            "outputs": [],
            "source": [
                "absError = ins['preds_1'] - ins['charges']\n",
                "SE = np.square(absError) # squared errors\n",
                "MSE = np.mean(SE) # mean squared errors\n",
                "np.sqrt(MSE) # Root Mean Squared Error, RMSE\n",
                "\n",
                "absError = ins['preds_20'] - ins['charges']\n",
                "SE = np.square(absError) # squared errors\n",
                "MSE = np.mean(SE) # mean squared errors\n",
                "np.sqrt(MSE)\n"
            ]
        },
        {
            "cell_type": "markdown",
            "metadata": {},
            "source": [
                "\n",
                "\n"
            ]
        },
        {
            "cell_type": "code",
            "execution_count": null,
            "metadata": {},
            "outputs": [],
            "source": [
                "import random\n",
                "random.seed(190498)\n",
                "\n",
                "from sklearn.model_selection import train_test_split\n",
                "x_train, x_test, y_train, y_test = train_test_split(ins['bmi'], ins['charges'])\n"
            ]
        },
        {
            "cell_type": "markdown",
            "metadata": {},
            "source": [
                "\n",
                "\n"
            ]
        },
        {
            "cell_type": "code",
            "execution_count": null,
            "metadata": {},
            "outputs": [],
            "source": [
                "poly_mod_1 = np.polyfit(x = x_train, y = y_train, deg = 1)\n",
                "poly_mod_20 = np.polyfit(x = x_train, y = y_train, deg = 20)\n",
                "\n",
                "test_preds_1 = np.polyval(poly_mod_1, x = x_test)\n",
                "test_preds_20 = np.polyval(poly_mod_20, x = x_test)\n"
            ]
        },
        {
            "cell_type": "markdown",
            "metadata": {},
            "source": [
                "\n",
                "\n"
            ]
        },
        {
            "cell_type": "code",
            "execution_count": null,
            "metadata": {},
            "outputs": [],
            "source": [
                "absError = test_preds_1 - y_test\n",
                "SE = np.square(absError) # squared errors\n",
                "MSE = np.mean(SE) # mean squared errors\n",
                "np.sqrt(MSE) # Root Mean Squared Error, RMSE\n",
                "\n",
                "absError = test_preds_20 - y_test\n",
                "SE = np.square(absError) # squared errors\n",
                "MSE = np.mean(SE) # mean squared errors\n",
                "np.sqrt(MSE)\n"
            ]
        },
        {
            "cell_type": "markdown",
            "metadata": {},
            "source": [
                "## Your turn\n",
                "\n",
                "Suppose you want to fit a regression that predicts `charges` from `age` and `bmi`.\n",
                "\n",
                "Consider four models:\n",
                "\n",
                "* `age` and `bmi` both have polynomial 1\n",
                "* `age` has polynomial 1, `bmi` has polynomial 2\n",
                "* `age` has polynomial 2, `bmi` has polynomial 1\n",
                "* `age` and `bmi` both have polynomial 2\n",
                "\n",
                "(No interactions term for any model.)\n",
                "\n",
                "Which model is best according to the **adjusted R-squared** on the training data?\n",
                "\n",
                "Which model is best according to the **MSE** of the **test** data?\n"
            ]
        }
    ],
    "metadata": {
        "anaconda-cloud": "",
        "kernelspec": {
            "display_name": "R",
            "langauge": "R",
            "name": "ir"
        },
        "language_info": {
            "codemirror_mode": "r",
            "file_extension": ".r",
            "mimetype": "text/x-r-source",
            "name": "R",
            "pygments_lexer": "r",
            "version": "3.4.1"
        }
    },
    "nbformat": 4,
    "nbformat_minor": 1
}
